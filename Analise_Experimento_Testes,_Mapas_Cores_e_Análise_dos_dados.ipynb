{
  "nbformat": 4,
  "nbformat_minor": 0,
  "metadata": {
    "colab": {
      "provenance": [],
      "authorship_tag": "ABX9TyOKVIhOzCE1w6NHTN4IxLJR",
      "include_colab_link": true
    },
    "kernelspec": {
      "name": "python3",
      "display_name": "Python 3"
    },
    "language_info": {
      "name": "python"
    }
  },
  "cells": [
    {
      "cell_type": "markdown",
      "metadata": {
        "id": "view-in-github",
        "colab_type": "text"
      },
      "source": [
        "<a href=\"https://colab.research.google.com/github/IuryAnnarumma/IuryAnnarumma/blob/main/Analise_Experimento_Testes%2C_Mapas_Cores_e_An%C3%A1lise_dos_dados.ipynb\" target=\"_parent\"><img src=\"https://colab.research.google.com/assets/colab-badge.svg\" alt=\"Open In Colab\"/></a>"
      ]
    },
    {
      "cell_type": "markdown",
      "source": [
        "## Estudo de Caso"
      ],
      "metadata": {
        "id": "oY8TSswUiZ4C"
      }
    },
    {
      "cell_type": "markdown",
      "source": [
        "Ajudar uma loja de Cupcake a utilizar ingredientes de forma que otimize seus rendimentos."
      ],
      "metadata": {
        "id": "Q6ahHSdMtL8w"
      }
    },
    {
      "cell_type": "code",
      "execution_count": null,
      "metadata": {
        "id": "Za35fJI7dzar"
      },
      "outputs": [],
      "source": []
    }
  ]
}